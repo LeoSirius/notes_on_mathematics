{
 "cells": [
  {
   "cell_type": "markdown",
   "metadata": {},
   "source": [
    "# 极限与连续"
   ]
  },
  {
   "cell_type": "markdown",
   "metadata": {},
   "source": [
    "## Part I 极限\n",
    "\n",
    "### defs\n",
    "\n",
    "#### 极限"
   ]
  },
  {
   "cell_type": "markdown",
   "metadata": {},
   "source": [
    "**case 1** $(\\epsilon-N)$\n",
    "\n",
    "$$If \\; \\forall\\epsilon>0,\\exists N>0, when \\; n>N, has \\; |a_n-A|<\\epsilon \\Longrightarrow \\lim\\limits_{n\\to \\infty}a_n=A$$\n",
    "\n",
    "\n",
    "注意极限是无限接近，但不保证达得到，如 $ \\lim\\limits_{n \\to \\infty} \\frac{n}{2n+1} = 1/2 $。但是 $ \\frac{n}{2n+1} \\neq 1/2 $ 。后者是永远不可能等于1/2的\n",
    "\n",
    "Notes:\n",
    "\n",
    "1. $ x \\to a $, 但 $x \\neq a$，如 $\\lim\\limits_{x \\to 0} \\frac{0}{x^3} = 0$ ，分母不能为0\n",
    "\n",
    "2. $ \\lim\\limits_{x\\to a}f(x) $ 与 f(a) 无关，如 $\\lim\\limits_{x\\to 1}\\frac{x^2-1}{x-1}=2$，但 $\\frac{x^2-1}{x-1}\\rvert_{x=1}$ 不存在\n",
    "\n",
    "3. $x\\to a \\begin{cases}\n",
    "x\\to a^+ \\\\\n",
    "x\\to a^-\n",
    "\\end{cases}$\n",
    "\n",
    "4. 0 < |x-a| < $\\delta$，表示x在a附近的去心领域，范围是 $\\pm \\delta$\n",
    "\n",
    "5. 函数极限存在 $\\Longleftrightarrow$ 左右极限存在且相等\n",
    "\n"
   ]
  },
  {
   "cell_type": "markdown",
   "metadata": {},
   "source": [
    "**case 2** ($\\epsilon - \\delta$)\n",
    "\n",
    "If\n",
    "\n",
    "- $\\forall \\epsilon > 0$,\n",
    "- $\\exists \\delta > 0$,\n",
    "- when 0 < |x-a| < $\\delta$,\n",
    "- has |f(x)-A| < $\\epsilon$\n",
    "\n",
    "call $\\lim\\limits_{x\\to a}f(x) = A$\n",
    " \n",
    "\n"
   ]
  },
  {
   "cell_type": "markdown",
   "metadata": {},
   "source": [
    "#### 无穷小\n",
    "\n",
    "两个条件：\n",
    "\n",
    "1. 是函数\n",
    "2. 这个函数极限为0\n",
    "\n"
   ]
  },
  {
   "cell_type": "code",
   "execution_count": null,
   "metadata": {},
   "outputs": [],
   "source": []
  }
 ],
 "metadata": {
  "kernelspec": {
   "display_name": "Python 3",
   "language": "python",
   "name": "python3"
  },
  "language_info": {
   "codemirror_mode": {
    "name": "ipython",
    "version": 3
   },
   "file_extension": ".py",
   "mimetype": "text/x-python",
   "name": "python",
   "nbconvert_exporter": "python",
   "pygments_lexer": "ipython3",
   "version": "3.7.3"
  },
  "toc": {
   "base_numbering": 1,
   "nav_menu": {},
   "number_sections": true,
   "sideBar": true,
   "skip_h1_title": false,
   "title_cell": "Table of Contents",
   "title_sidebar": "Contents",
   "toc_cell": false,
   "toc_position": {},
   "toc_section_display": true,
   "toc_window_display": true
  }
 },
 "nbformat": 4,
 "nbformat_minor": 2
}
