{
 "cells": [
  {
   "cell_type": "markdown",
   "metadata": {},
   "source": [
    "# 极限与连续"
   ]
  },
  {
   "cell_type": "markdown",
   "metadata": {},
   "source": [
    "## Part I 极限\n",
    "\n",
    "### defs\n",
    "\n",
    "#### 极限"
   ]
  },
  {
   "cell_type": "markdown",
   "metadata": {},
   "source": [
    "**case1** $(\\epsilon-N)$\n",
    "\n",
    "\n",
    "If \n",
    "\n",
    "- $\\forall \\epsilon$ > 0, \n",
    "- $\\exists$ N>0,  \n",
    "- when n > N ，\n",
    "- has |a_n-A| < $\\epsilon$\n",
    "\n",
    "call $\\lim\\limits_{n\\to \\infty}a_n = A$\n"
   ]
  },
  {
   "cell_type": "markdown",
   "metadata": {},
   "source": [
    "注意极限是无限接近，但不保证打得到，如 $ \\lim\\limits_{n \\to \\infty} \\frac{n}{2n+1} = 1/2 $。\n",
    "\n",
    "但是 $ \\frac{n}{2n+1} \\neq 1/2 $"
   ]
  },
  {
   "cell_type": "markdown",
   "metadata": {},
   "source": []
  }
 ],
 "metadata": {
  "kernelspec": {
   "display_name": "Python 3",
   "language": "python",
   "name": "python3"
  },
  "language_info": {
   "codemirror_mode": {
    "name": "ipython",
    "version": 3
   },
   "file_extension": ".py",
   "mimetype": "text/x-python",
   "name": "python",
   "nbconvert_exporter": "python",
   "pygments_lexer": "ipython3",
   "version": "3.7.3"
  },
  "toc": {
   "base_numbering": 1,
   "nav_menu": {},
   "number_sections": true,
   "sideBar": true,
   "skip_h1_title": false,
   "title_cell": "Table of Contents",
   "title_sidebar": "Contents",
   "toc_cell": false,
   "toc_position": {},
   "toc_section_display": true,
   "toc_window_display": true
  }
 },
 "nbformat": 4,
 "nbformat_minor": 2
}
