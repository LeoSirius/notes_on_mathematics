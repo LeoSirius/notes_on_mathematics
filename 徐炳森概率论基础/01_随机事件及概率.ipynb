{
 "cells": [
  {
   "cell_type": "markdown",
   "metadata": {},
   "source": [
    "# 随机事件\n",
    "\n",
    "## 一些概念\n",
    "\n",
    "### 随机试验\n",
    "\n",
    "满足下面三个条件\n",
    "\n",
    "- 可重复进行；\n",
    "- 所有结果事先已知；\n",
    "- 具体结果事先未知；\n",
    "\n",
    "### 样本点 $\\omega$\n",
    "\n",
    "- 每一个基本可能结果（对应集合论中的元素）\n",
    "\n",
    "### 样本空间 $\\Omega$ or s\n",
    "\n",
    "- 随机试验的所有可能结果组成的集合 （对应集合论中的全集）\n",
    "\n",
    "### 随机事件\n",
    "\n",
    "- 直观上指有可能发生，有可能不发生的随机现象 （对应集合论中的子集）\n",
    "\n",
    "> 注意一定是还没有发生的时间，这里所说的事件都是未来的事件\n",
    "\n",
    "- 数学上指 $\\Omega$ 的子集\n",
    "\n",
    "> A发生 $\\Longleftrightarrow$ A中某一样本点出现\n",
    "\n",
    "### 基本事件\n",
    "\n",
    "- 单个样本点组成的事件\n",
    "\n",
    "## 随机事件的关系可运算\n",
    "\n",
    "\n",
    "### AB对立： $A\\cup B = \\Omega \\;and\\; AB = \\oslash$\n",
    "\n",
    "### AB互斥： $AB = \\oslash$\n",
    "\n",
    "可见，对立比互斥多一个条件\n",
    "\n",
    "- AB互斥 $\\nRightarrow$ AB对立\n",
    "- AB互斥 $\\Leftarrow$ AB对立"
   ]
  },
  {
   "cell_type": "code",
   "execution_count": 13,
   "metadata": {},
   "outputs": [
    {
     "data": {
      "image/png": "[encoded data removed]",
      "text/plain": [
       "<Figure size 432x288 with 1 Axes>"
      ]
     },
     "metadata": {},
     "output_type": "display_data"
    }
   ],
   "source": [
    "from matplotlib_venn import venn2\n",
    "from matplotlib import pyplot as plt\n",
    "\n",
    "out = venn2(subsets = (1, 1, 0.5))\n",
    "plt.show()"
   ]
  },
  {
   "cell_type": "markdown",
   "metadata": {},
   "source": [
    "### A $\\cup$ B\n",
    "\n",
    "$A和B至少一个发生 \\Longleftrightarrow A \\cup B \\Longleftrightarrow \\overline{A}B \\cup AB \\cup A\\overline{B} $\n",
    "\n",
    "- 红色：$\\overline{A}B$\n",
    "- 绿色：$A\\overline{B}$\n",
    "\n",
    "$\\overline{A}B \\cup A\\overline{B} $ 是A和B恰好一个发生\n",
    "AB 是A和B都发生\n",
    "\n",
    "两个合起来正好是：A和B至少一个发生\n",
    "\n",
    "$A\\overline{B}, \\overline{A}B, AB$ 两两互斥"
   ]
  },
  {
   "cell_type": "markdown",
   "metadata": {},
   "source": [
    "# 概率、古典和几何概型、五大公式\n",
    "\n",
    "## 概率\n",
    "\n",
    "- 直观上指一个事件发生的可能性大小的数量指标\n",
    "\n",
    "### 统计定义\n",
    "\n",
    "- 频率的稳定值（极限）即为概率。（注意，由频率定义只能估计概率）\n",
    "\n",
    "### 公理化定义\n",
    "\n",
    "$$\n",
    "\\Omega \\rightarrow [0,1] \\\\\n",
    "P: A \\rightarrow P(A)   \\qquad P是一个函数，把A映射为P(A)\n",
    "$$\n",
    "\n",
    "且满足：\n",
    "\n",
    "1. 非负性： $  \\forall{A}, 0 \\leq P(A) \\leq 1$\n",
    "2. 规范性： $P(\\Omega) = 1$\n",
    "3. 可列可加性：$A_1, A_2, ..., A_n, ...$是两两互不相容的事件，则$P(\\bigcup\\limits_{i=1}^{\\infty}A_i)=\\sum\\limits_{i=1}^{\\infty}P(A_i)$"
   ]
  },
  {
   "cell_type": "markdown",
   "metadata": {},
   "source": [
    "### 概率的性质\n",
    "\n",
    "- $P(\\oslash)=0,\\; 0 \\leq P(A) \\leq 1$\n",
    "- A，B互斥，则$P(A\\cup B) = P(A) + P(B)$\n",
    "- $P(A) = 1 - P(\\overline{A})$\n",
    "\n",
    "注：\n",
    "\n",
    "$$\n",
    "\\begin{align}\n",
    "& If B\\subset A, then P(A-B) = P(A) - P(B) \\geq 0  \\quad (因为P(AB) = P(B)，且概率必然大于等于0) \\\\\n",
    "& \\Longrightarrow P(B) \\leq P(A) \\\\\n",
    "& If P(A) = 0, then P(AB) = 0, P(ABC) = 0 \\quad (ABC\\subset AB\\subset A)\n",
    "\\end{align}\n",
    "$$\n"
   ]
  },
  {
   "cell_type": "markdown",
   "metadata": {},
   "source": [
    "**减法公式** $P(A-B) = P(A\\overline B) = P(A) - P(AB)$\n",
    "\n",
    "**proof**\n",
    "\n",
    "$$\n",
    "\\begin{align}\n",
    "& A = A\\Omega = A(B\\cup \\overline{B}) = AB\\cup A\\overline B \\\\\n",
    "& \\Longrightarrow P(A) = P(AB) + P(A\\overline B) \\quad (AB, A\\overline B 互斥) \\\\\n",
    "& \\Longrightarrow P(A\\overline B) = P(A) - P(AB)\n",
    "\\end{align}\n",
    "$$"
   ]
  },
  {
   "cell_type": "markdown",
   "metadata": {},
   "source": [
    "**加法公式** $P(A\\cup B) = P(A) + P(B) - P(AB)$\n",
    "\n",
    "**proof**\n",
    "\n",
    "$$\n",
    "\\begin{align}\n",
    "A \\cup B &= A\\overline{B} \\cup\\overline{A}B\\cup AB \\\\\n",
    "\\Longrightarrow P(A\\cup B) &= P(A\\overline B) + P(\\overline {A}B) + P(AB) \\quad (这三个两两互斥) \\\\\n",
    "&= P(A) - P(AB) + P(B) - P(AB) + P(AB) \\quad (减法公式) \\\\\n",
    "&= P(A) +  P(B) - P(AB)\n",
    "\\end{align}\n",
    "$$"
   ]
  },
  {
   "cell_type": "markdown",
   "metadata": {},
   "source": [
    "**例** $P(AB) = P(\\bar A\\bar B), P(A) = p, 求P(B)$\n",
    "\n",
    "**slt**\n",
    "\n",
    "$$\n",
    "\\begin{align}\n",
    "P(\\bar A\\bar B) &= P(\\overline{A\\cup B}) \\\\\n",
    "&= 1 - P(A\\cup B) \\\\\n",
    "&= 1 = P(A) - P(B) + P(AB) \\\\\n",
    "\\Longrightarrow P(B) &= 1 - P(A) \\\\\n",
    "&= 1 - p\n",
    "\\end{align}\n",
    "$$"
   ]
  },
  {
   "cell_type": "markdown",
   "metadata": {},
   "source": [
    "**例** $P(A) = P(B) = P(C) = 1/4, P(AB) = 0, P(AC) = P(BC) = 1/8, 求事件A,B,C全不发生的概率$\n",
    "\n",
    "**slt**\n",
    "\n",
    "$$\n",
    "\\begin{align}\n",
    "P(\\bar A\\bar B\\bar C) &= P(\\overline{A\\cup B\\cup C}) \\\\\n",
    "&= 1 - P(A\\cup B\\cup C) \\\\\n",
    "&= 1 - [P(A) + P(B) + P(C) - P(AB) - P(AC) - P(BC) + P(ABC)] \\\\\n",
    "& P(ABC) \\leq P(AB) \\\\\n",
    "& \\Longrightarrow P(ABC) = P(AB) = 0\\\\\n",
    "& \\Longrightarrow P(\\bar A\\bar B\\bar C) = 1/2\n",
    "\\end{align}\n",
    "$$"
   ]
  },
  {
   "cell_type": "code",
   "execution_count": null,
   "metadata": {},
   "outputs": [],
   "source": []
  }
 ],
 "metadata": {
  "kernelspec": {
   "display_name": "Python 3",
   "language": "python",
   "name": "python3"
  },
  "language_info": {
   "codemirror_mode": {
    "name": "ipython",
    "version": 3
   },
   "file_extension": ".py",
   "mimetype": "text/x-python",
   "name": "python",
   "nbconvert_exporter": "python",
   "pygments_lexer": "ipython3",
   "version": "3.7.3"
  },
  "toc": {
   "base_numbering": 1,
   "nav_menu": {},
   "number_sections": true,
   "sideBar": true,
   "skip_h1_title": false,
   "title_cell": "Table of Contents",
   "title_sidebar": "Contents",
   "toc_cell": false,
   "toc_position": {},
   "toc_section_display": true,
   "toc_window_display": true
  }
 },
 "nbformat": 4,
 "nbformat_minor": 2
}
